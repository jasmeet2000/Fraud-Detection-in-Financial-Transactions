{
 "cells": [
  {
   "cell_type": "markdown",
   "id": "60281c4b-c361-4b09-bb39-ca573320a923",
   "metadata": {},
   "source": [
    "<h1> <center> AMOD-5610: Big Data Major Research Paper </center> </h1>\n",
    "<h2> <center> Fraud Detection in Financial Transactions </center> </h2>\n",
    "\n",
    "<br>\n",
    "\n",
    "\n",
    "Submitted By:-\n",
    "\n",
    "**Jasmeet Singh Saini** (**0758054**)\n",
    "\n",
    "**Ayush Sharma**  (**0774583**)\n"
   ]
  },
  {
   "cell_type": "markdown",
   "id": "c48c46ef-280a-4b6f-8f1d-02015ee75a89",
   "metadata": {},
   "source": [
    "### Import necessary libraries\n"
   ]
  },
  {
   "cell_type": "code",
   "execution_count": 69,
   "id": "10d5d263-d42f-4198-bbc4-67b59ffd1d78",
   "metadata": {
    "tags": []
   },
   "outputs": [],
   "source": [
    "import matplotlib\n",
    "import numpy as np\n",
    "import pandas as pd\n",
    "import seaborn as sns\n",
    "import matplotlib.pyplot as plt\n",
    "\n",
    "import warnings\n",
    "warnings.filterwarnings('ignore')"
   ]
  },
  {
   "cell_type": "markdown",
   "id": "b7064fe1-c984-4b1c-b6f5-4ff5235a0c7a",
   "metadata": {},
   "source": [
    "### Load the dataset\n"
   ]
  },
  {
   "cell_type": "code",
   "execution_count": 46,
   "id": "20ddb6b0-b46e-4cbf-85bd-2562757abae0",
   "metadata": {
    "tags": []
   },
   "outputs": [],
   "source": [
    "def load_dataset(file_path):\n",
    "    try:\n",
    "        # Load the dataset\n",
    "        dataset = pd.read_csv(file_path)\n",
    "        print(\"Dataset loaded successfully.\")\n",
    "        return dataset\n",
    "    except Exception as e:\n",
    "        print(f\"Error loading the dataset: {e}\")\n",
    "        return None"
   ]
  },
  {
   "cell_type": "markdown",
   "id": "b7313a97-1072-49f3-a5d6-af13f690812d",
   "metadata": {},
   "source": [
    "Here, the data was loaded."
   ]
  },
  {
   "cell_type": "code",
   "execution_count": 47,
   "id": "25517c79-7f92-4e0f-81fa-707f8186fc5f",
   "metadata": {
    "tags": []
   },
   "outputs": [
    {
     "name": "stdout",
     "output_type": "stream",
     "text": [
      "Dataset loaded successfully.\n"
     ]
    }
   ],
   "source": [
    "file_path = 'financial_transactions_dataset.csv'\n",
    "df         = load_dataset(file_path)"
   ]
  },
  {
   "cell_type": "markdown",
   "id": "90608039-01df-4adc-bfeb-0e53c497d9cf",
   "metadata": {},
   "source": [
    "### Dataset\n",
    "\n",
    "Display the first few rows of the dataset to get an overview"
   ]
  },
  {
   "cell_type": "code",
   "execution_count": 48,
   "id": "3e8db557-0648-4c79-827b-73c7121b3ccd",
   "metadata": {},
   "outputs": [
    {
     "data": {
      "text/html": [
       "<div>\n",
       "<style scoped>\n",
       "    .dataframe tbody tr th:only-of-type {\n",
       "        vertical-align: middle;\n",
       "    }\n",
       "\n",
       "    .dataframe tbody tr th {\n",
       "        vertical-align: top;\n",
       "    }\n",
       "\n",
       "    .dataframe thead th {\n",
       "        text-align: right;\n",
       "    }\n",
       "</style>\n",
       "<table border=\"1\" class=\"dataframe\">\n",
       "  <thead>\n",
       "    <tr style=\"text-align: right;\">\n",
       "      <th></th>\n",
       "      <th>step</th>\n",
       "      <th>type</th>\n",
       "      <th>amount</th>\n",
       "      <th>nameOrig</th>\n",
       "      <th>oldbalanceOrg</th>\n",
       "      <th>newbalanceOrig</th>\n",
       "      <th>nameDest</th>\n",
       "      <th>oldbalanceDest</th>\n",
       "      <th>newbalanceDest</th>\n",
       "      <th>isFraud</th>\n",
       "      <th>isFlaggedFraud</th>\n",
       "    </tr>\n",
       "  </thead>\n",
       "  <tbody>\n",
       "    <tr>\n",
       "      <th>0</th>\n",
       "      <td>1</td>\n",
       "      <td>PAYMENT</td>\n",
       "      <td>9839.64</td>\n",
       "      <td>C1231006815</td>\n",
       "      <td>170136.0</td>\n",
       "      <td>160296.36</td>\n",
       "      <td>M1979787155</td>\n",
       "      <td>0.0</td>\n",
       "      <td>0.0</td>\n",
       "      <td>0</td>\n",
       "      <td>0</td>\n",
       "    </tr>\n",
       "    <tr>\n",
       "      <th>1</th>\n",
       "      <td>1</td>\n",
       "      <td>PAYMENT</td>\n",
       "      <td>1864.28</td>\n",
       "      <td>C1666544295</td>\n",
       "      <td>21249.0</td>\n",
       "      <td>19384.72</td>\n",
       "      <td>M2044282225</td>\n",
       "      <td>0.0</td>\n",
       "      <td>0.0</td>\n",
       "      <td>0</td>\n",
       "      <td>0</td>\n",
       "    </tr>\n",
       "    <tr>\n",
       "      <th>2</th>\n",
       "      <td>1</td>\n",
       "      <td>TRANSFER</td>\n",
       "      <td>181.00</td>\n",
       "      <td>C1305486145</td>\n",
       "      <td>181.0</td>\n",
       "      <td>0.00</td>\n",
       "      <td>C553264065</td>\n",
       "      <td>0.0</td>\n",
       "      <td>0.0</td>\n",
       "      <td>1</td>\n",
       "      <td>0</td>\n",
       "    </tr>\n",
       "  </tbody>\n",
       "</table>\n",
       "</div>"
      ],
      "text/plain": [
       "   step      type   amount     nameOrig  oldbalanceOrg  newbalanceOrig  \\\n",
       "0     1   PAYMENT  9839.64  C1231006815       170136.0       160296.36   \n",
       "1     1   PAYMENT  1864.28  C1666544295        21249.0        19384.72   \n",
       "2     1  TRANSFER   181.00  C1305486145          181.0            0.00   \n",
       "\n",
       "      nameDest  oldbalanceDest  newbalanceDest  isFraud  isFlaggedFraud  \n",
       "0  M1979787155             0.0             0.0        0               0  \n",
       "1  M2044282225             0.0             0.0        0               0  \n",
       "2   C553264065             0.0             0.0        1               0  "
      ]
     },
     "execution_count": 48,
     "metadata": {},
     "output_type": "execute_result"
    }
   ],
   "source": [
    "df.head(3)"
   ]
  },
  {
   "cell_type": "markdown",
   "id": "7ef82bcc-ea78-499d-a9d3-16f16fb5674d",
   "metadata": {},
   "source": [
    "### Rows and Columns\n",
    "\n",
    "There are **6362620 rows** and **11 columns** present in data set i.e., before cleaning."
   ]
  },
  {
   "cell_type": "code",
   "execution_count": 49,
   "id": "8e126a00-c0f3-4ece-98c2-09149a47d02b",
   "metadata": {},
   "outputs": [
    {
     "data": {
      "text/plain": [
       "(6362620, 11)"
      ]
     },
     "execution_count": 49,
     "metadata": {},
     "output_type": "execute_result"
    }
   ],
   "source": [
    "df.shape"
   ]
  },
  {
   "cell_type": "markdown",
   "id": "c4ecefda-950b-4bf9-8496-0dd66c07c83f",
   "metadata": {},
   "source": [
    "### Exploring the variables\n",
    "\n",
    "Exploring the *datatypes* and *number of instances* in the dataset"
   ]
  },
  {
   "cell_type": "code",
   "execution_count": 50,
   "id": "a51c0be1-26b9-42f0-89a2-ee87f8570dfa",
   "metadata": {
    "tags": []
   },
   "outputs": [
    {
     "name": "stdout",
     "output_type": "stream",
     "text": [
      "type\n",
      "CASH_OUT    2237500\n",
      "PAYMENT     2151495\n",
      "CASH_IN     1399284\n",
      "TRANSFER     532909\n",
      "DEBIT         41432\n",
      "Name: count, dtype: int64\n",
      "-------------------------------------------------------\n",
      "isFraud\n",
      "0    6354407\n",
      "1       8213\n",
      "Name: count, dtype: int64\n",
      "-------------------------------------------------------\n"
     ]
    }
   ],
   "source": [
    "print(df.type.value_counts())\n",
    "print('-------------------------------------------------------')\n",
    "print(df.isFraud.value_counts())\n",
    "print('-------------------------------------------------------')"
   ]
  },
  {
   "cell_type": "markdown",
   "id": "705c929e-c54a-47f3-b8bc-ced58b38a10b",
   "metadata": {},
   "source": [
    "CASH_OUT and PAYMENT has **higher data points**. \n",
    "\n",
    "DEBIT has the **lowest data points**."
   ]
  },
  {
   "cell_type": "code",
   "execution_count": 51,
   "id": "bed40de0-5215-4572-97b7-96c46b116c54",
   "metadata": {
    "tags": []
   },
   "outputs": [
    {
     "name": "stdout",
     "output_type": "stream",
     "text": [
      "<class 'pandas.core.frame.DataFrame'>\n",
      "RangeIndex: 6362620 entries, 0 to 6362619\n",
      "Data columns (total 11 columns):\n",
      " #   Column          Dtype  \n",
      "---  ------          -----  \n",
      " 0   step            int64  \n",
      " 1   type            object \n",
      " 2   amount          float64\n",
      " 3   nameOrig        object \n",
      " 4   oldbalanceOrg   float64\n",
      " 5   newbalanceOrig  float64\n",
      " 6   nameDest        object \n",
      " 7   oldbalanceDest  float64\n",
      " 8   newbalanceDest  float64\n",
      " 9   isFraud         int64  \n",
      " 10  isFlaggedFraud  int64  \n",
      "dtypes: float64(5), int64(3), object(3)\n",
      "memory usage: 534.0+ MB\n"
     ]
    }
   ],
   "source": [
    "df.info()"
   ]
  },
  {
   "cell_type": "markdown",
   "id": "4472647e-5906-4015-894b-7c86896ae440",
   "metadata": {},
   "source": [
    "Let's break down each column which is provided in the dataset:\n",
    "\n",
    "**1. step:** It represents a unit of time in the real world, where 1 step is equivalent to 1 hour. It has values like 1, 2, 3, ..., 744 (for a 30-day simulation).\n",
    "\n",
    "**2. type:** It categorizes the type of transaction. And the type are like PAYMENT, TRANSFER, CASH-IN, CASH-OUT, DEBIT.\n",
    "\n",
    "**3. amount:** It denotes the amount of the transaction in the local currency. It has values like  9839.64, 1864.28, 181, ...\n",
    "\n",
    "**4. nameOrig:** It represents the customer who initiated the transaction. It has values like C1231006815, C1666544295, ...\n",
    "\n",
    "**6. oldbalanceOrg:** It signifies the initial balance of the originator's account before the transaction. It has values like 170136, 21249, 181, ...\n",
    "\n",
    "**7. newbalanceOrig:** It reflects the new balance of the originator's account after the transaction.It has values like 160296.36, 19384.72, 0, ...\n",
    "\n",
    "**8. nameDest:** It represents the customer who is the recipient of the transaction. It has values like M1979787155, M2044282225, C553264065, ...\n",
    "\n",
    "**9. oldbalanceDest:** Indicates the initial balance of the recipient's account before the transaction.\n",
    "Example: 0, 0, 0, 21182, 0, ...\n",
    "\n",
    "**10. newbalanceDest:** Denotes the new balance of the recipient's account after the transaction.\n",
    "Example: 0, 0, 0, 0, 0, ...\n",
    "\n",
    "**11. isFraud:** It identifies transactions made by fraudulent agents within the simulation. And the values like **0** means *Not fraud*, **1** means *Fraud*.\n",
    "\n",
    "**12. isFlaggedFraud:** It reflects whether the transaction is flagged as illegal based on the business model. And it has values like **0** (Not flagged as fraud), **1** (Flagged as fraud).\n"
   ]
  },
  {
   "cell_type": "markdown",
   "id": "d6692ff5-f150-4fba-b716-74fcfbb014a7",
   "metadata": {},
   "source": [
    "###  Data types in the dataset\n"
   ]
  },
  {
   "cell_type": "code",
   "execution_count": 52,
   "id": "ab1283fe-1ac1-47b8-948f-bdbc38be8c6d",
   "metadata": {
    "tags": []
   },
   "outputs": [
    {
     "data": {
      "text/plain": [
       "float64    5\n",
       "int64      3\n",
       "object     3\n",
       "Name: count, dtype: int64"
      ]
     },
     "execution_count": 52,
     "metadata": {},
     "output_type": "execute_result"
    }
   ],
   "source": [
    "# Count of types of data type\n",
    "df.dtypes.value_counts()"
   ]
  },
  {
   "cell_type": "code",
   "execution_count": 53,
   "id": "7d12c218-023d-4f0c-913f-36a208af5436",
   "metadata": {
    "tags": []
   },
   "outputs": [
    {
     "data": {
      "image/png": "[encoded data removed]",
      "text/plain": [
       "<Figure size 640x480 with 1 Axes>"
      ]
     },
     "metadata": {},
     "output_type": "display_data"
    }
   ],
   "source": [
    "df.dtypes.value_counts().plot.pie(explode = [0.1,0.1,0.1],autopct = '%1.2f%%',shadow = True)\n",
    "plt.title('Data Type of the dataset', fontweight = 'bold', fontsize = 16);"
   ]
  },
  {
   "cell_type": "markdown",
   "id": "b038d39b-f9d3-4022-9ba6-1557ee4cb98d",
   "metadata": {},
   "source": [
    "There is **3 Integer (27.27%)**, **3 Object (27.27%)**, and **5 Float (45.45%)** are present before pre-processing of dataset."
   ]
  },
  {
   "cell_type": "markdown",
   "id": "2aa86602-9a79-45d1-82c7-7d8bde7be6b4",
   "metadata": {},
   "source": [
    "### Check basic statistics of the dataset\n",
    "\n",
    "Let's have a look to the description of the dataset"
   ]
  },
  {
   "cell_type": "code",
   "execution_count": 54,
   "id": "b24462df-bc27-411c-bafe-eac06fd99b9f",
   "metadata": {
    "tags": []
   },
   "outputs": [
    {
     "data": {
      "text/html": [
       "<div>\n",
       "<style scoped>\n",
       "    .dataframe tbody tr th:only-of-type {\n",
       "        vertical-align: middle;\n",
       "    }\n",
       "\n",
       "    .dataframe tbody tr th {\n",
       "        vertical-align: top;\n",
       "    }\n",
       "\n",
       "    .dataframe thead th {\n",
       "        text-align: right;\n",
       "    }\n",
       "</style>\n",
       "<table border=\"1\" class=\"dataframe\">\n",
       "  <thead>\n",
       "    <tr style=\"text-align: right;\">\n",
       "      <th></th>\n",
       "      <th>step</th>\n",
       "      <th>type</th>\n",
       "      <th>amount</th>\n",
       "      <th>nameOrig</th>\n",
       "      <th>oldbalanceOrg</th>\n",
       "      <th>newbalanceOrig</th>\n",
       "      <th>nameDest</th>\n",
       "      <th>oldbalanceDest</th>\n",
       "      <th>newbalanceDest</th>\n",
       "      <th>isFraud</th>\n",
       "      <th>isFlaggedFraud</th>\n",
       "    </tr>\n",
       "  </thead>\n",
       "  <tbody>\n",
       "    <tr>\n",
       "      <th>count</th>\n",
       "      <td>6.362620e+06</td>\n",
       "      <td>6362620</td>\n",
       "      <td>6.362620e+06</td>\n",
       "      <td>6362620</td>\n",
       "      <td>6.362620e+06</td>\n",
       "      <td>6.362620e+06</td>\n",
       "      <td>6362620</td>\n",
       "      <td>6.362620e+06</td>\n",
       "      <td>6.362620e+06</td>\n",
       "      <td>6.362620e+06</td>\n",
       "      <td>6.362620e+06</td>\n",
       "    </tr>\n",
       "    <tr>\n",
       "      <th>unique</th>\n",
       "      <td>NaN</td>\n",
       "      <td>5</td>\n",
       "      <td>NaN</td>\n",
       "      <td>6353307</td>\n",
       "      <td>NaN</td>\n",
       "      <td>NaN</td>\n",
       "      <td>2722362</td>\n",
       "      <td>NaN</td>\n",
       "      <td>NaN</td>\n",
       "      <td>NaN</td>\n",
       "      <td>NaN</td>\n",
       "    </tr>\n",
       "    <tr>\n",
       "      <th>top</th>\n",
       "      <td>NaN</td>\n",
       "      <td>CASH_OUT</td>\n",
       "      <td>NaN</td>\n",
       "      <td>C1902386530</td>\n",
       "      <td>NaN</td>\n",
       "      <td>NaN</td>\n",
       "      <td>C1286084959</td>\n",
       "      <td>NaN</td>\n",
       "      <td>NaN</td>\n",
       "      <td>NaN</td>\n",
       "      <td>NaN</td>\n",
       "    </tr>\n",
       "    <tr>\n",
       "      <th>freq</th>\n",
       "      <td>NaN</td>\n",
       "      <td>2237500</td>\n",
       "      <td>NaN</td>\n",
       "      <td>3</td>\n",
       "      <td>NaN</td>\n",
       "      <td>NaN</td>\n",
       "      <td>113</td>\n",
       "      <td>NaN</td>\n",
       "      <td>NaN</td>\n",
       "      <td>NaN</td>\n",
       "      <td>NaN</td>\n",
       "    </tr>\n",
       "    <tr>\n",
       "      <th>mean</th>\n",
       "      <td>2.433972e+02</td>\n",
       "      <td>NaN</td>\n",
       "      <td>1.798619e+05</td>\n",
       "      <td>NaN</td>\n",
       "      <td>8.338831e+05</td>\n",
       "      <td>8.551137e+05</td>\n",
       "      <td>NaN</td>\n",
       "      <td>1.100702e+06</td>\n",
       "      <td>1.224996e+06</td>\n",
       "      <td>1.290820e-03</td>\n",
       "      <td>2.514687e-06</td>\n",
       "    </tr>\n",
       "    <tr>\n",
       "      <th>std</th>\n",
       "      <td>1.423320e+02</td>\n",
       "      <td>NaN</td>\n",
       "      <td>6.038582e+05</td>\n",
       "      <td>NaN</td>\n",
       "      <td>2.888243e+06</td>\n",
       "      <td>2.924049e+06</td>\n",
       "      <td>NaN</td>\n",
       "      <td>3.399180e+06</td>\n",
       "      <td>3.674129e+06</td>\n",
       "      <td>3.590480e-02</td>\n",
       "      <td>1.585775e-03</td>\n",
       "    </tr>\n",
       "    <tr>\n",
       "      <th>min</th>\n",
       "      <td>1.000000e+00</td>\n",
       "      <td>NaN</td>\n",
       "      <td>0.000000e+00</td>\n",
       "      <td>NaN</td>\n",
       "      <td>0.000000e+00</td>\n",
       "      <td>0.000000e+00</td>\n",
       "      <td>NaN</td>\n",
       "      <td>0.000000e+00</td>\n",
       "      <td>0.000000e+00</td>\n",
       "      <td>0.000000e+00</td>\n",
       "      <td>0.000000e+00</td>\n",
       "    </tr>\n",
       "    <tr>\n",
       "      <th>25%</th>\n",
       "      <td>1.560000e+02</td>\n",
       "      <td>NaN</td>\n",
       "      <td>1.338957e+04</td>\n",
       "      <td>NaN</td>\n",
       "      <td>0.000000e+00</td>\n",
       "      <td>0.000000e+00</td>\n",
       "      <td>NaN</td>\n",
       "      <td>0.000000e+00</td>\n",
       "      <td>0.000000e+00</td>\n",
       "      <td>0.000000e+00</td>\n",
       "      <td>0.000000e+00</td>\n",
       "    </tr>\n",
       "    <tr>\n",
       "      <th>50%</th>\n",
       "      <td>2.390000e+02</td>\n",
       "      <td>NaN</td>\n",
       "      <td>7.487194e+04</td>\n",
       "      <td>NaN</td>\n",
       "      <td>1.420800e+04</td>\n",
       "      <td>0.000000e+00</td>\n",
       "      <td>NaN</td>\n",
       "      <td>1.327057e+05</td>\n",
       "      <td>2.146614e+05</td>\n",
       "      <td>0.000000e+00</td>\n",
       "      <td>0.000000e+00</td>\n",
       "    </tr>\n",
       "    <tr>\n",
       "      <th>75%</th>\n",
       "      <td>3.350000e+02</td>\n",
       "      <td>NaN</td>\n",
       "      <td>2.087215e+05</td>\n",
       "      <td>NaN</td>\n",
       "      <td>1.073152e+05</td>\n",
       "      <td>1.442584e+05</td>\n",
       "      <td>NaN</td>\n",
       "      <td>9.430367e+05</td>\n",
       "      <td>1.111909e+06</td>\n",
       "      <td>0.000000e+00</td>\n",
       "      <td>0.000000e+00</td>\n",
       "    </tr>\n",
       "    <tr>\n",
       "      <th>max</th>\n",
       "      <td>7.430000e+02</td>\n",
       "      <td>NaN</td>\n",
       "      <td>9.244552e+07</td>\n",
       "      <td>NaN</td>\n",
       "      <td>5.958504e+07</td>\n",
       "      <td>4.958504e+07</td>\n",
       "      <td>NaN</td>\n",
       "      <td>3.560159e+08</td>\n",
       "      <td>3.561793e+08</td>\n",
       "      <td>1.000000e+00</td>\n",
       "      <td>1.000000e+00</td>\n",
       "    </tr>\n",
       "  </tbody>\n",
       "</table>\n",
       "</div>"
      ],
      "text/plain": [
       "                step      type        amount     nameOrig  oldbalanceOrg  \\\n",
       "count   6.362620e+06   6362620  6.362620e+06      6362620   6.362620e+06   \n",
       "unique           NaN         5           NaN      6353307            NaN   \n",
       "top              NaN  CASH_OUT           NaN  C1902386530            NaN   \n",
       "freq             NaN   2237500           NaN            3            NaN   \n",
       "mean    2.433972e+02       NaN  1.798619e+05          NaN   8.338831e+05   \n",
       "std     1.423320e+02       NaN  6.038582e+05          NaN   2.888243e+06   \n",
       "min     1.000000e+00       NaN  0.000000e+00          NaN   0.000000e+00   \n",
       "25%     1.560000e+02       NaN  1.338957e+04          NaN   0.000000e+00   \n",
       "50%     2.390000e+02       NaN  7.487194e+04          NaN   1.420800e+04   \n",
       "75%     3.350000e+02       NaN  2.087215e+05          NaN   1.073152e+05   \n",
       "max     7.430000e+02       NaN  9.244552e+07          NaN   5.958504e+07   \n",
       "\n",
       "        newbalanceOrig     nameDest  oldbalanceDest  newbalanceDest  \\\n",
       "count     6.362620e+06      6362620    6.362620e+06    6.362620e+06   \n",
       "unique             NaN      2722362             NaN             NaN   \n",
       "top                NaN  C1286084959             NaN             NaN   \n",
       "freq               NaN          113             NaN             NaN   \n",
       "mean      8.551137e+05          NaN    1.100702e+06    1.224996e+06   \n",
       "std       2.924049e+06          NaN    3.399180e+06    3.674129e+06   \n",
       "min       0.000000e+00          NaN    0.000000e+00    0.000000e+00   \n",
       "25%       0.000000e+00          NaN    0.000000e+00    0.000000e+00   \n",
       "50%       0.000000e+00          NaN    1.327057e+05    2.146614e+05   \n",
       "75%       1.442584e+05          NaN    9.430367e+05    1.111909e+06   \n",
       "max       4.958504e+07          NaN    3.560159e+08    3.561793e+08   \n",
       "\n",
       "             isFraud  isFlaggedFraud  \n",
       "count   6.362620e+06    6.362620e+06  \n",
       "unique           NaN             NaN  \n",
       "top              NaN             NaN  \n",
       "freq             NaN             NaN  \n",
       "mean    1.290820e-03    2.514687e-06  \n",
       "std     3.590480e-02    1.585775e-03  \n",
       "min     0.000000e+00    0.000000e+00  \n",
       "25%     0.000000e+00    0.000000e+00  \n",
       "50%     0.000000e+00    0.000000e+00  \n",
       "75%     0.000000e+00    0.000000e+00  \n",
       "max     1.000000e+00    1.000000e+00  "
      ]
     },
     "execution_count": 54,
     "metadata": {},
     "output_type": "execute_result"
    }
   ],
   "source": [
    "df.describe(include='all')"
   ]
  },
  {
   "cell_type": "markdown",
   "id": "181a00f7-5dfd-43a0-be8e-ebc71be150a3",
   "metadata": {
    "tags": []
   },
   "source": [
    "### Na Values\n"
   ]
  },
  {
   "cell_type": "code",
   "execution_count": 55,
   "id": "9d7ff922-c09a-42ac-b97c-6b4d8cc5cd04",
   "metadata": {
    "tags": []
   },
   "outputs": [
    {
     "name": "stdout",
     "output_type": "stream",
     "text": [
      "\n",
      "The total NULL values in the dataset are 0\n",
      "\n",
      "The missing values and the percentage of missing in each columns are given below:-\n"
     ]
    },
    {
     "data": {
      "text/html": [
       "<div>\n",
       "<style scoped>\n",
       "    .dataframe tbody tr th:only-of-type {\n",
       "        vertical-align: middle;\n",
       "    }\n",
       "\n",
       "    .dataframe tbody tr th {\n",
       "        vertical-align: top;\n",
       "    }\n",
       "\n",
       "    .dataframe thead th {\n",
       "        text-align: right;\n",
       "    }\n",
       "</style>\n",
       "<table border=\"1\" class=\"dataframe\">\n",
       "  <thead>\n",
       "    <tr style=\"text-align: right;\">\n",
       "      <th></th>\n",
       "      <th>missing_values</th>\n",
       "      <th>percent_missing</th>\n",
       "    </tr>\n",
       "  </thead>\n",
       "  <tbody>\n",
       "    <tr>\n",
       "      <th>step</th>\n",
       "      <td>0</td>\n",
       "      <td>0.0</td>\n",
       "    </tr>\n",
       "    <tr>\n",
       "      <th>type</th>\n",
       "      <td>0</td>\n",
       "      <td>0.0</td>\n",
       "    </tr>\n",
       "    <tr>\n",
       "      <th>amount</th>\n",
       "      <td>0</td>\n",
       "      <td>0.0</td>\n",
       "    </tr>\n",
       "    <tr>\n",
       "      <th>nameOrig</th>\n",
       "      <td>0</td>\n",
       "      <td>0.0</td>\n",
       "    </tr>\n",
       "    <tr>\n",
       "      <th>oldbalanceOrg</th>\n",
       "      <td>0</td>\n",
       "      <td>0.0</td>\n",
       "    </tr>\n",
       "    <tr>\n",
       "      <th>newbalanceOrig</th>\n",
       "      <td>0</td>\n",
       "      <td>0.0</td>\n",
       "    </tr>\n",
       "    <tr>\n",
       "      <th>nameDest</th>\n",
       "      <td>0</td>\n",
       "      <td>0.0</td>\n",
       "    </tr>\n",
       "    <tr>\n",
       "      <th>oldbalanceDest</th>\n",
       "      <td>0</td>\n",
       "      <td>0.0</td>\n",
       "    </tr>\n",
       "    <tr>\n",
       "      <th>newbalanceDest</th>\n",
       "      <td>0</td>\n",
       "      <td>0.0</td>\n",
       "    </tr>\n",
       "    <tr>\n",
       "      <th>isFraud</th>\n",
       "      <td>0</td>\n",
       "      <td>0.0</td>\n",
       "    </tr>\n",
       "    <tr>\n",
       "      <th>isFlaggedFraud</th>\n",
       "      <td>0</td>\n",
       "      <td>0.0</td>\n",
       "    </tr>\n",
       "  </tbody>\n",
       "</table>\n",
       "</div>"
      ],
      "text/plain": [
       "                missing_values  percent_missing\n",
       "step                         0              0.0\n",
       "type                         0              0.0\n",
       "amount                       0              0.0\n",
       "nameOrig                     0              0.0\n",
       "oldbalanceOrg                0              0.0\n",
       "newbalanceOrig               0              0.0\n",
       "nameDest                     0              0.0\n",
       "oldbalanceDest               0              0.0\n",
       "newbalanceDest               0              0.0\n",
       "isFraud                      0              0.0\n",
       "isFlaggedFraud               0              0.0"
      ]
     },
     "execution_count": 55,
     "metadata": {},
     "output_type": "execute_result"
    }
   ],
   "source": [
    "missing_values  = df.isnull().sum()\n",
    "print(\"\\nThe total NULL values in the dataset are\", missing_values.sum())\n",
    "\n",
    "print(\"\\nThe missing values and the percentage of missing in each columns are given below:-\")\n",
    "# df.isnull().sum()\n",
    "\n",
    "percent_missing = df.isnull().sum()/df.shape[0]*100\n",
    "\n",
    "value = {\n",
    "    'missing_values' : missing_values,\n",
    "    'percent_missing': percent_missing\n",
    "}\n",
    "frame = pd.DataFrame(value)\n",
    "frame"
   ]
  },
  {
   "cell_type": "markdown",
   "id": "56f17bf1-3721-4d79-9d11-13de76431426",
   "metadata": {},
   "source": [
    "### Duplicates\n",
    "\n",
    "Checking the Duplicates in the dataset."
   ]
  },
  {
   "cell_type": "code",
   "execution_count": 56,
   "id": "9b2816e5-de56-4155-8d8b-153d16735c89",
   "metadata": {
    "tags": []
   },
   "outputs": [
    {
     "name": "stdout",
     "output_type": "stream",
     "text": [
      "\n",
      "The total Duplicates values in the dataset are 0\n"
     ]
    }
   ],
   "source": [
    "print(\"\\nThe total Duplicates values in the dataset are\", df.duplicated().sum()) "
   ]
  },
  {
   "cell_type": "markdown",
   "id": "da348847-0837-4124-8b1d-44354e7abb37",
   "metadata": {},
   "source": [
    "### Numerical values:-\n"
   ]
  },
  {
   "cell_type": "code",
   "execution_count": 57,
   "id": "09bc0d72-582b-498d-b2a8-df18bd9730af",
   "metadata": {
    "tags": []
   },
   "outputs": [
    {
     "name": "stdout",
     "output_type": "stream",
     "text": [
      "The numirical values in the dataset are given below:- \n",
      " ['step', 'amount', 'oldbalanceOrg', 'newbalanceOrig', 'oldbalanceDest', 'newbalanceDest', 'isFraud', 'isFlaggedFraud']\n"
     ]
    }
   ],
   "source": [
    "numerical_cols = [f for f in df.columns if df.dtypes[f] != 'object']\n",
    "print(\"The numirical values in the dataset are given below:- \\n\",numerical_cols)"
   ]
  },
  {
   "cell_type": "markdown",
   "id": "edd54e3c-f630-4516-b094-7da9d6258cf2",
   "metadata": {
    "tags": []
   },
   "source": [
    "### Categorical Values:-\n"
   ]
  },
  {
   "cell_type": "code",
   "execution_count": 58,
   "id": "b7649f8a-615d-4624-ac02-2f3139b9f07f",
   "metadata": {
    "tags": []
   },
   "outputs": [
    {
     "name": "stdout",
     "output_type": "stream",
     "text": [
      "The Categorical values in the dataset are given below:- \n",
      " ['type']\n"
     ]
    }
   ],
   "source": [
    "cat_columns = [f for f in df.columns if df.dtypes[f] == 'object']\n",
    "cat_columns.remove('nameOrig')\n",
    "cat_columns.remove('nameDest')\n",
    "print(\"The Categorical values in the dataset are given below:- \\n\",cat_columns)"
   ]
  },
  {
   "cell_type": "markdown",
   "id": "43190b71-7c74-469f-9c17-0403ea15f6d3",
   "metadata": {},
   "source": [
    "### Checking columns names"
   ]
  },
  {
   "cell_type": "code",
   "execution_count": 59,
   "id": "cf659a4b-9cbd-48d5-93f2-518b661a8c1b",
   "metadata": {},
   "outputs": [
    {
     "data": {
      "text/plain": [
       "Index(['step', 'type', 'amount', 'nameOrig', 'oldbalanceOrg', 'newbalanceOrig',\n",
       "       'nameDest', 'oldbalanceDest', 'newbalanceDest', 'isFraud',\n",
       "       'isFlaggedFraud'],\n",
       "      dtype='object')"
      ]
     },
     "execution_count": 59,
     "metadata": {},
     "output_type": "execute_result"
    }
   ],
   "source": [
    "df.columns"
   ]
  },
  {
   "cell_type": "markdown",
   "id": "835e7e43-8a1b-432c-8e8b-6cf1a5963dc9",
   "metadata": {},
   "source": [
    "### Rename the Columns\n",
    "\n",
    "Changing the names of the columns for better understanding."
   ]
  },
  {
   "cell_type": "code",
   "execution_count": 60,
   "id": "dcae0bb4-24ee-4e3c-85a7-b4c46ad8c08a",
   "metadata": {},
   "outputs": [
    {
     "data": {
      "text/html": [
       "<div>\n",
       "<style scoped>\n",
       "    .dataframe tbody tr th:only-of-type {\n",
       "        vertical-align: middle;\n",
       "    }\n",
       "\n",
       "    .dataframe tbody tr th {\n",
       "        vertical-align: top;\n",
       "    }\n",
       "\n",
       "    .dataframe thead th {\n",
       "        text-align: right;\n",
       "    }\n",
       "</style>\n",
       "<table border=\"1\" class=\"dataframe\">\n",
       "  <thead>\n",
       "    <tr style=\"text-align: right;\">\n",
       "      <th></th>\n",
       "      <th>step</th>\n",
       "      <th>type</th>\n",
       "      <th>amount</th>\n",
       "      <th>origin</th>\n",
       "      <th>sender_old_balance</th>\n",
       "      <th>sender_new_balance</th>\n",
       "      <th>destination</th>\n",
       "      <th>receiver_old_balance</th>\n",
       "      <th>receiver_new_balance</th>\n",
       "      <th>isfraud</th>\n",
       "      <th>isFlaggedFraud</th>\n",
       "    </tr>\n",
       "  </thead>\n",
       "  <tbody>\n",
       "    <tr>\n",
       "      <th>0</th>\n",
       "      <td>1</td>\n",
       "      <td>PAYMENT</td>\n",
       "      <td>9839.64</td>\n",
       "      <td>C1231006815</td>\n",
       "      <td>170136.0</td>\n",
       "      <td>160296.36</td>\n",
       "      <td>M1979787155</td>\n",
       "      <td>0.0</td>\n",
       "      <td>0.0</td>\n",
       "      <td>0</td>\n",
       "      <td>0</td>\n",
       "    </tr>\n",
       "    <tr>\n",
       "      <th>1</th>\n",
       "      <td>1</td>\n",
       "      <td>PAYMENT</td>\n",
       "      <td>1864.28</td>\n",
       "      <td>C1666544295</td>\n",
       "      <td>21249.0</td>\n",
       "      <td>19384.72</td>\n",
       "      <td>M2044282225</td>\n",
       "      <td>0.0</td>\n",
       "      <td>0.0</td>\n",
       "      <td>0</td>\n",
       "      <td>0</td>\n",
       "    </tr>\n",
       "    <tr>\n",
       "      <th>2</th>\n",
       "      <td>1</td>\n",
       "      <td>TRANSFER</td>\n",
       "      <td>181.00</td>\n",
       "      <td>C1305486145</td>\n",
       "      <td>181.0</td>\n",
       "      <td>0.00</td>\n",
       "      <td>C553264065</td>\n",
       "      <td>0.0</td>\n",
       "      <td>0.0</td>\n",
       "      <td>1</td>\n",
       "      <td>0</td>\n",
       "    </tr>\n",
       "    <tr>\n",
       "      <th>3</th>\n",
       "      <td>1</td>\n",
       "      <td>CASH_OUT</td>\n",
       "      <td>181.00</td>\n",
       "      <td>C840083671</td>\n",
       "      <td>181.0</td>\n",
       "      <td>0.00</td>\n",
       "      <td>C38997010</td>\n",
       "      <td>21182.0</td>\n",
       "      <td>0.0</td>\n",
       "      <td>1</td>\n",
       "      <td>0</td>\n",
       "    </tr>\n",
       "    <tr>\n",
       "      <th>4</th>\n",
       "      <td>1</td>\n",
       "      <td>PAYMENT</td>\n",
       "      <td>11668.14</td>\n",
       "      <td>C2048537720</td>\n",
       "      <td>41554.0</td>\n",
       "      <td>29885.86</td>\n",
       "      <td>M1230701703</td>\n",
       "      <td>0.0</td>\n",
       "      <td>0.0</td>\n",
       "      <td>0</td>\n",
       "      <td>0</td>\n",
       "    </tr>\n",
       "  </tbody>\n",
       "</table>\n",
       "</div>"
      ],
      "text/plain": [
       "   step      type    amount       origin  sender_old_balance  \\\n",
       "0     1   PAYMENT   9839.64  C1231006815            170136.0   \n",
       "1     1   PAYMENT   1864.28  C1666544295             21249.0   \n",
       "2     1  TRANSFER    181.00  C1305486145               181.0   \n",
       "3     1  CASH_OUT    181.00   C840083671               181.0   \n",
       "4     1   PAYMENT  11668.14  C2048537720             41554.0   \n",
       "\n",
       "   sender_new_balance  destination  receiver_old_balance  \\\n",
       "0           160296.36  M1979787155                   0.0   \n",
       "1            19384.72  M2044282225                   0.0   \n",
       "2                0.00   C553264065                   0.0   \n",
       "3                0.00    C38997010               21182.0   \n",
       "4            29885.86  M1230701703                   0.0   \n",
       "\n",
       "   receiver_new_balance  isfraud  isFlaggedFraud  \n",
       "0                   0.0        0               0  \n",
       "1                   0.0        0               0  \n",
       "2                   0.0        1               0  \n",
       "3                   0.0        1               0  \n",
       "4                   0.0        0               0  "
      ]
     },
     "execution_count": 60,
     "metadata": {},
     "output_type": "execute_result"
    }
   ],
   "source": [
    "# Define a dictionary with the mapping of old column names to new column names (for better naming convention).\n",
    "column_mapping = {\n",
    "    'step'                       : 'step',\n",
    "    'type'                       : 'type',\n",
    "    'amount'                     : 'amount',\n",
    "    'nameOrig'                   : 'origin',\n",
    "    'oldbalanceOrg'              : 'sender_old_balance', \n",
    "    'newbalanceOrig'             : 'sender_new_balance', \n",
    "    'nameDest'                   : 'destination', \n",
    "    'oldbalanceDest'             : 'receiver_old_balance', \n",
    "    'newbalanceDest'             : 'receiver_new_balance', \n",
    "    'isFraud'                    : 'isfraud',\n",
    "    'isFlaggedFraud'             : 'isFlaggedFraud'\n",
    "}\n",
    "\n",
    "\n",
    "# Rename the columns in the DataFrame\n",
    "df.rename(columns = column_mapping, inplace = True)\n",
    "\n",
    "# Display the updated DataFrame\n",
    "df.head(5)\n"
   ]
  },
  {
   "cell_type": "markdown",
   "id": "f5c90194-e46d-456e-b48c-7551458d497f",
   "metadata": {
    "tags": []
   },
   "source": [
    "###  Removing Non-Essential Columns\n",
    "\n",
    "It's advisable to remove non-essential columns from a dataset, and we can achieve this by utilizing the drop function:-\n",
    "\n",
    "- step, and \n",
    "\n",
    "- isFlaggedFraud."
   ]
  },
  {
   "cell_type": "code",
   "execution_count": 61,
   "id": "e5d58b6e-2df8-432a-b711-34982fd7e1bc",
   "metadata": {
    "tags": []
   },
   "outputs": [],
   "source": [
    "df = df.drop(\n",
    "    columns = ['step', 'isFlaggedFraud'], \n",
    "    axis    = 'columns'\n",
    ")"
   ]
  },
  {
   "cell_type": "markdown",
   "id": "b884e726-f7e3-41b3-8c0d-2b5ca6716323",
   "metadata": {},
   "source": [
    "### Relocating Target Column\n",
    "\n",
    "Now, we are ready to relocate the target column to the preferred position within the dataset."
   ]
  },
  {
   "cell_type": "code",
   "execution_count": 62,
   "id": "77d3c1b4-9c02-403e-9db9-3a979f78adbd",
   "metadata": {
    "tags": []
   },
   "outputs": [],
   "source": [
    "cols         = df.columns.tolist()\n",
    "new_position = 3\n",
    "\n",
    "cols.insert(new_position, cols.pop(cols.index('destination')))\n",
    "df           = df[cols]"
   ]
  },
  {
   "cell_type": "markdown",
   "id": "d89c598c-d1e1-4db7-8f3e-cecdab248fb0",
   "metadata": {},
   "source": [
    "By employing the head function again, let's confirm the modifications made thus far."
   ]
  },
  {
   "cell_type": "code",
   "execution_count": 63,
   "id": "435b60b2-3bd9-4dee-a56b-df603f2545ba",
   "metadata": {
    "tags": []
   },
   "outputs": [
    {
     "data": {
      "text/html": [
       "<div>\n",
       "<style scoped>\n",
       "    .dataframe tbody tr th:only-of-type {\n",
       "        vertical-align: middle;\n",
       "    }\n",
       "\n",
       "    .dataframe tbody tr th {\n",
       "        vertical-align: top;\n",
       "    }\n",
       "\n",
       "    .dataframe thead th {\n",
       "        text-align: right;\n",
       "    }\n",
       "</style>\n",
       "<table border=\"1\" class=\"dataframe\">\n",
       "  <thead>\n",
       "    <tr style=\"text-align: right;\">\n",
       "      <th></th>\n",
       "      <th>type</th>\n",
       "      <th>amount</th>\n",
       "      <th>origin</th>\n",
       "      <th>destination</th>\n",
       "      <th>sender_old_balance</th>\n",
       "      <th>sender_new_balance</th>\n",
       "      <th>receiver_old_balance</th>\n",
       "      <th>receiver_new_balance</th>\n",
       "      <th>isfraud</th>\n",
       "    </tr>\n",
       "  </thead>\n",
       "  <tbody>\n",
       "    <tr>\n",
       "      <th>0</th>\n",
       "      <td>PAYMENT</td>\n",
       "      <td>9839.64</td>\n",
       "      <td>C1231006815</td>\n",
       "      <td>M1979787155</td>\n",
       "      <td>170136.0</td>\n",
       "      <td>160296.36</td>\n",
       "      <td>0.0</td>\n",
       "      <td>0.0</td>\n",
       "      <td>0</td>\n",
       "    </tr>\n",
       "    <tr>\n",
       "      <th>1</th>\n",
       "      <td>PAYMENT</td>\n",
       "      <td>1864.28</td>\n",
       "      <td>C1666544295</td>\n",
       "      <td>M2044282225</td>\n",
       "      <td>21249.0</td>\n",
       "      <td>19384.72</td>\n",
       "      <td>0.0</td>\n",
       "      <td>0.0</td>\n",
       "      <td>0</td>\n",
       "    </tr>\n",
       "    <tr>\n",
       "      <th>2</th>\n",
       "      <td>TRANSFER</td>\n",
       "      <td>181.00</td>\n",
       "      <td>C1305486145</td>\n",
       "      <td>C553264065</td>\n",
       "      <td>181.0</td>\n",
       "      <td>0.00</td>\n",
       "      <td>0.0</td>\n",
       "      <td>0.0</td>\n",
       "      <td>1</td>\n",
       "    </tr>\n",
       "    <tr>\n",
       "      <th>3</th>\n",
       "      <td>CASH_OUT</td>\n",
       "      <td>181.00</td>\n",
       "      <td>C840083671</td>\n",
       "      <td>C38997010</td>\n",
       "      <td>181.0</td>\n",
       "      <td>0.00</td>\n",
       "      <td>21182.0</td>\n",
       "      <td>0.0</td>\n",
       "      <td>1</td>\n",
       "    </tr>\n",
       "    <tr>\n",
       "      <th>4</th>\n",
       "      <td>PAYMENT</td>\n",
       "      <td>11668.14</td>\n",
       "      <td>C2048537720</td>\n",
       "      <td>M1230701703</td>\n",
       "      <td>41554.0</td>\n",
       "      <td>29885.86</td>\n",
       "      <td>0.0</td>\n",
       "      <td>0.0</td>\n",
       "      <td>0</td>\n",
       "    </tr>\n",
       "  </tbody>\n",
       "</table>\n",
       "</div>"
      ],
      "text/plain": [
       "       type    amount       origin  destination  sender_old_balance  \\\n",
       "0   PAYMENT   9839.64  C1231006815  M1979787155            170136.0   \n",
       "1   PAYMENT   1864.28  C1666544295  M2044282225             21249.0   \n",
       "2  TRANSFER    181.00  C1305486145   C553264065               181.0   \n",
       "3  CASH_OUT    181.00   C840083671    C38997010               181.0   \n",
       "4   PAYMENT  11668.14  C2048537720  M1230701703             41554.0   \n",
       "\n",
       "   sender_new_balance  receiver_old_balance  receiver_new_balance  isfraud  \n",
       "0           160296.36                   0.0                   0.0        0  \n",
       "1            19384.72                   0.0                   0.0        0  \n",
       "2                0.00                   0.0                   0.0        1  \n",
       "3                0.00               21182.0                   0.0        1  \n",
       "4            29885.86                   0.0                   0.0        0  "
      ]
     },
     "execution_count": 63,
     "metadata": {},
     "output_type": "execute_result"
    }
   ],
   "source": [
    "df.head(5)"
   ]
  },
  {
   "cell_type": "markdown",
   "id": "956a22dc-3422-4d53-97a2-439b9b6825b7",
   "metadata": {},
   "source": [
    "## Exploratory Data Analysis"
   ]
  },
  {
   "cell_type": "markdown",
   "id": "f860e2ed-7c03-4ff4-95e8-b2f76b89c629",
   "metadata": {},
   "source": [
    "### Correlation heatmap\n"
   ]
  },
  {
   "cell_type": "code",
   "execution_count": 71,
   "id": "41a15014-a19d-4b84-9f96-3116be591aea",
   "metadata": {
    "tags": []
   },
   "outputs": [
    {
     "name": "stdout",
     "output_type": "stream",
     "text": [
      "                        amount  sender_old_balance  sender_new_balance  \\\n",
      "amount                1.000000           -0.002762           -0.007861   \n",
      "sender_old_balance   -0.002762            1.000000            0.998803   \n",
      "sender_new_balance   -0.007861            0.998803            1.000000   \n",
      "receiver_old_balance  0.294137            0.066243            0.067812   \n",
      "receiver_new_balance  0.459304            0.042029            0.041837   \n",
      "isfraud               0.076688            0.010154           -0.008148   \n",
      "\n",
      "                      receiver_old_balance  receiver_new_balance   isfraud  \n",
      "amount                            0.294137              0.459304  0.076688  \n",
      "sender_old_balance                0.066243              0.042029  0.010154  \n",
      "sender_new_balance                0.067812              0.041837 -0.008148  \n",
      "receiver_old_balance              1.000000              0.976569 -0.005885  \n",
      "receiver_new_balance              0.976569              1.000000  0.000535  \n",
      "isfraud                          -0.005885              0.000535  1.000000  \n"
     ]
    }
   ],
   "source": [
    "# Exclude non-numeric columns\n",
    "numeric_df = df.select_dtypes(include=['number'])\n",
    "\n",
    "# Calculate correlation matrix\n",
    "correlation_matrix = numeric_df.corr()\n",
    "\n",
    "# Display correlation matrix\n",
    "print(correlation_matrix)"
   ]
  },
  {
   "cell_type": "code",
   "execution_count": 72,
   "id": "87f62637-4678-45ae-b9c2-4cfb76464b9b",
   "metadata": {
    "tags": []
   },
   "outputs": [
    {
     "data": {
      "image/png": "[encoded data removed]",
      "text/plain": [
       "<Figure size 800x600 with 2 Axes>"
      ]
     },
     "metadata": {},
     "output_type": "display_data"
    }
   ],
   "source": [
    "plt.figure(figsize=(8, 6))\n",
    "sns.heatmap(correlation_matrix, annot=True, cmap='coolwarm', linewidths=0.5)\n",
    "plt.title('Correlation Heatmap')\n",
    "plt.show()"
   ]
  },
  {
   "cell_type": "markdown",
   "id": "8e139322-8df5-4cce-b198-29a991b17925",
   "metadata": {},
   "source": [
    "Based on the correlation matrix:\n",
    "\n",
    "**1. Transaction Amount:** Transaction amounts have a *positive correlation* with the balances of the receiver. Larger transaction amounts are associated with higher receiver balances.\n",
    "\n",
    "**2. Balances:** Strong *positive correlation* between the sender's old and new balances (who has started the transaction). Weak positive correlations between sender balances and receiver balances was observed.\n",
    "\n",
    "**3. Fraud:** *Very weak correlations* between fraud and other columns, with the *highest correlation* being with the transaction amount. The observed correlations are not strong, suggesting that linear relationships are minimal.\n",
    "\n",
    "Correlation does not imply causation, and further analysis may be required for a comprehensive understanding of relationships in the data."
   ]
  },
  {
   "cell_type": "markdown",
   "id": "ea96e566-86af-4c8c-8680-1e5af2f01174",
   "metadata": {
    "tags": []
   },
   "source": [
    "### Skewness"
   ]
  },
  {
   "cell_type": "code",
   "execution_count": 83,
   "id": "ca2a85b1-f6d6-43df-85d5-fe61ab0169b3",
   "metadata": {
    "tags": []
   },
   "outputs": [
    {
     "data": {
      "text/plain": [
       "amount                  30.993949\n",
       "sender_old_balance       5.249136\n",
       "sender_new_balance       5.176884\n",
       "receiver_old_balance    19.921758\n",
       "receiver_new_balance    19.352302\n",
       "isfraud                 27.779538\n",
       "dtype: float64"
      ]
     },
     "execution_count": 83,
     "metadata": {},
     "output_type": "execute_result"
    }
   ],
   "source": [
    "numeric_df.skew()"
   ]
  },
  {
   "cell_type": "markdown",
   "id": "93ddf6ea-d86e-4d78-956e-091cc2c46689",
   "metadata": {
    "tags": []
   },
   "source": [
    "- The *amount* is **Highly right-skewed (positively skewed)**. Also, *receiver_old_balance*, *receiver_new_balance* and *isfraud* are **Highly right-skewed**.\n",
    "\n",
    "- *sender_old_balance* and *sender_new_balance* are **moderately right-skewed**.\n",
    "\n",
    "\n",
    "Hence, the financial transaction data exhibits **right-skewness**, indicating a concentration of lower values in the balances and amounts, with a few higher values or fraudulent cases having a substantial impact on the overall distribution."
   ]
  },
  {
   "cell_type": "code",
   "execution_count": 98,
   "id": "a15b8fd0-0ff6-4994-89ab-cd5ed0ec25eb",
   "metadata": {
    "tags": []
   },
   "outputs": [
    {
     "data": {
      "image/png": "[encoded data removed]",
      "text/plain": [
       "<Figure size 1200x800 with 6 Axes>"
      ]
     },
     "metadata": {},
     "output_type": "display_data"
    }
   ],
   "source": [
    "import seaborn as sns\n",
    "import matplotlib.pyplot as plt\n",
    "import pandas as pd\n",
    "\n",
    "# Assuming df is your DataFrame with the specified columns and data\n",
    "numeric_columns = ['amount', 'sender_old_balance', 'sender_new_balance', 'receiver_old_balance', 'receiver_new_balance', 'isfraud']\n",
    "numeric_df = df[numeric_columns]\n",
    "\n",
    "# Set up the matplotlib figure\n",
    "plt.figure(figsize=(12, 8))\n",
    "\n",
    "# Loop through each numeric column and create a KDE plot\n",
    "for i, column in enumerate(numeric_df.columns):\n",
    "    plt.subplot(3, 2, i+1)\n",
    "    sns.kdeplot(data=numeric_df, x=column, fill=True, common_norm=False, palette='darkblue')\n",
    "    plt.title(f'KDE Plot - {column}')\n",
    "\n",
    "plt.tight_layout()\n",
    "plt.show()\n"
   ]
  },
  {
   "cell_type": "markdown",
   "id": "97ada569-eeb7-43ad-9538-f993c1020123",
   "metadata": {},
   "source": [
    "### Fraud and Non Fraud Transactions\n",
    "\n",
    "Now, we will create a bar plot to visualize the distribution of fraud and non-fraud transactions across different transaction types."
   ]
  },
  {
   "cell_type": "code",
   "execution_count": 100,
   "id": "59559ad1-7633-4bc7-89e0-90a388c985af",
   "metadata": {
    "tags": []
   },
   "outputs": [
    {
     "data": {
      "image/png": "[encoded data removed]",
      "text/plain": [
       "<Figure size 1500x800 with 1 Axes>"
      ]
     },
     "metadata": {},
     "output_type": "display_data"
    }
   ],
   "source": [
    "plt.figure(figsize = (15, 8))\n",
    "ax=sns.countplot(data = df, x = \"type\", hue=\"isfraud\", palette = 'Set1')\n",
    "plt.title('Fraud and Non Fraud Transactions')\n",
    "for p in ax.patches:\n",
    "        ax.annotate('{:.1f}'.format(p.get_height()), (p.get_x()+0.01, p.get_height()+10000))"
   ]
  },
  {
   "cell_type": "code",
   "execution_count": 8,
   "id": "27b617bc-e29f-4cc2-adbf-80463b0d0d5b",
   "metadata": {
    "tags": []
   },
   "outputs": [
    {
     "name": "stdout",
     "output_type": "stream",
     "text": [
      "C:\\Users\\jasme\\Documents\\work_space\\AMOD-5610_Big_Data_Major_Research_Paper\n"
     ]
    }
   ],
   "source": [
    "import os\n",
    "\n",
    "notebook_path = os.getcwd()\n",
    "print(notebook_path)"
   ]
  }
 ],
 "metadata": {
  "kernelspec": {
   "display_name": "Python 3 (ipykernel)",
   "language": "python",
   "name": "python3"
  },
  "language_info": {
   "codemirror_mode": {
    "name": "ipython",
    "version": 3
   },
   "file_extension": ".py",
   "mimetype": "text/x-python",
   "name": "python",
   "nbconvert_exporter": "python",
   "pygments_lexer": "ipython3",
   "version": "3.10.9"
  }
 },
 "nbformat": 4,
 "nbformat_minor": 5
}
