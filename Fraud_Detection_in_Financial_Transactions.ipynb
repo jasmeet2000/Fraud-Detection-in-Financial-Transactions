{
 "cells": [
  {
   "cell_type": "markdown",
   "id": "60281c4b-c361-4b09-bb39-ca573320a923",
   "metadata": {},
   "source": [
    "<h1> <center> AMOD-5610: Big Data Major Research Paper </center> </h1>\n",
    "<h2> <center> Fraud Detection in Financial Transactions </center> </h2>\n",
    "\n",
    "<br>\n",
    "\n",
    "\n",
    "Submitted By:-\n",
    "\n",
    "**Jasmeet Singh Saini** (**0758054**)\n",
    "\n",
    "**Ayush Sharma**  (**0774583**)\n"
   ]
  },
  {
   "cell_type": "markdown",
   "id": "c48c46ef-280a-4b6f-8f1d-02015ee75a89",
   "metadata": {},
   "source": [
    "### Import necessary libraries\n"
   ]
  },
  {
   "cell_type": "code",
   "execution_count": 1,
   "id": "10d5d263-d42f-4198-bbc4-67b59ffd1d78",
   "metadata": {
    "tags": []
   },
   "outputs": [],
   "source": [
    "import numpy as np\n",
    "import pandas as pd\n",
    "\n",
    "import warnings\n",
    "warnings.filterwarnings('ignore')"
   ]
  },
  {
   "cell_type": "markdown",
   "id": "b7064fe1-c984-4b1c-b6f5-4ff5235a0c7a",
   "metadata": {},
   "source": [
    "### Load the dataset\n"
   ]
  },
  {
   "cell_type": "code",
   "execution_count": 2,
   "id": "20ddb6b0-b46e-4cbf-85bd-2562757abae0",
   "metadata": {
    "tags": []
   },
   "outputs": [],
   "source": [
    "def load_dataset(file_path):\n",
    "    try:\n",
    "        # Load the dataset\n",
    "        dataset = pd.read_csv(file_path)\n",
    "        print(\"Dataset loaded successfully.\")\n",
    "        return dataset\n",
    "    except Exception as e:\n",
    "        print(f\"Error loading the dataset: {e}\")\n",
    "        return None"
   ]
  },
  {
   "cell_type": "markdown",
   "id": "b7313a97-1072-49f3-a5d6-af13f690812d",
   "metadata": {},
   "source": [
    "Here, the data was loaded."
   ]
  },
  {
   "cell_type": "code",
   "execution_count": 4,
   "id": "25517c79-7f92-4e0f-81fa-707f8186fc5f",
   "metadata": {
    "tags": []
   },
   "outputs": [
    {
     "name": "stdout",
     "output_type": "stream",
     "text": [
      "Dataset loaded successfully.\n"
     ]
    }
   ],
   "source": [
    "file_path = 'financial_transactions_dataset.csv'\n",
    "df         = load_dataset(file_path)"
   ]
  },
  {
   "cell_type": "markdown",
   "id": "90608039-01df-4adc-bfeb-0e53c497d9cf",
   "metadata": {},
   "source": [
    "### Dataset\n",
    "\n",
    "Display the first few rows of the dataset to get an overview"
   ]
  },
  {
   "cell_type": "code",
   "execution_count": 5,
   "id": "3e8db557-0648-4c79-827b-73c7121b3ccd",
   "metadata": {},
   "outputs": [
    {
     "data": {
      "text/html": [
       "<div>\n",
       "<style scoped>\n",
       "    .dataframe tbody tr th:only-of-type {\n",
       "        vertical-align: middle;\n",
       "    }\n",
       "\n",
       "    .dataframe tbody tr th {\n",
       "        vertical-align: top;\n",
       "    }\n",
       "\n",
       "    .dataframe thead th {\n",
       "        text-align: right;\n",
       "    }\n",
       "</style>\n",
       "<table border=\"1\" class=\"dataframe\">\n",
       "  <thead>\n",
       "    <tr style=\"text-align: right;\">\n",
       "      <th></th>\n",
       "      <th>step</th>\n",
       "      <th>type</th>\n",
       "      <th>amount</th>\n",
       "      <th>nameOrig</th>\n",
       "      <th>oldbalanceOrg</th>\n",
       "      <th>newbalanceOrig</th>\n",
       "      <th>nameDest</th>\n",
       "      <th>oldbalanceDest</th>\n",
       "      <th>newbalanceDest</th>\n",
       "      <th>isFraud</th>\n",
       "      <th>isFlaggedFraud</th>\n",
       "    </tr>\n",
       "  </thead>\n",
       "  <tbody>\n",
       "    <tr>\n",
       "      <th>0</th>\n",
       "      <td>1</td>\n",
       "      <td>PAYMENT</td>\n",
       "      <td>9839.64</td>\n",
       "      <td>C1231006815</td>\n",
       "      <td>170136.0</td>\n",
       "      <td>160296.36</td>\n",
       "      <td>M1979787155</td>\n",
       "      <td>0.0</td>\n",
       "      <td>0.0</td>\n",
       "      <td>0</td>\n",
       "      <td>0</td>\n",
       "    </tr>\n",
       "    <tr>\n",
       "      <th>1</th>\n",
       "      <td>1</td>\n",
       "      <td>PAYMENT</td>\n",
       "      <td>1864.28</td>\n",
       "      <td>C1666544295</td>\n",
       "      <td>21249.0</td>\n",
       "      <td>19384.72</td>\n",
       "      <td>M2044282225</td>\n",
       "      <td>0.0</td>\n",
       "      <td>0.0</td>\n",
       "      <td>0</td>\n",
       "      <td>0</td>\n",
       "    </tr>\n",
       "    <tr>\n",
       "      <th>2</th>\n",
       "      <td>1</td>\n",
       "      <td>TRANSFER</td>\n",
       "      <td>181.00</td>\n",
       "      <td>C1305486145</td>\n",
       "      <td>181.0</td>\n",
       "      <td>0.00</td>\n",
       "      <td>C553264065</td>\n",
       "      <td>0.0</td>\n",
       "      <td>0.0</td>\n",
       "      <td>1</td>\n",
       "      <td>0</td>\n",
       "    </tr>\n",
       "  </tbody>\n",
       "</table>\n",
       "</div>"
      ],
      "text/plain": [
       "   step      type   amount     nameOrig  oldbalanceOrg  newbalanceOrig  \\\n",
       "0     1   PAYMENT  9839.64  C1231006815       170136.0       160296.36   \n",
       "1     1   PAYMENT  1864.28  C1666544295        21249.0        19384.72   \n",
       "2     1  TRANSFER   181.00  C1305486145          181.0            0.00   \n",
       "\n",
       "      nameDest  oldbalanceDest  newbalanceDest  isFraud  isFlaggedFraud  \n",
       "0  M1979787155             0.0             0.0        0               0  \n",
       "1  M2044282225             0.0             0.0        0               0  \n",
       "2   C553264065             0.0             0.0        1               0  "
      ]
     },
     "execution_count": 5,
     "metadata": {},
     "output_type": "execute_result"
    }
   ],
   "source": [
    "df.head(3)"
   ]
  },
  {
   "cell_type": "markdown",
   "id": "7ef82bcc-ea78-499d-a9d3-16f16fb5674d",
   "metadata": {},
   "source": [
    "### Rows and Columns\n",
    "\n",
    "There are **XYZ rows** and **ABC columns** present in data set i.e., before cleaning."
   ]
  },
  {
   "cell_type": "code",
   "execution_count": null,
   "id": "8e126a00-c0f3-4ece-98c2-09149a47d02b",
   "metadata": {},
   "outputs": [],
   "source": [
    "df.shape"
   ]
  },
  {
   "cell_type": "markdown",
   "id": "43190b71-7c74-469f-9c17-0403ea15f6d3",
   "metadata": {},
   "source": [
    "### Checking columns names"
   ]
  },
  {
   "cell_type": "code",
   "execution_count": null,
   "id": "cf659a4b-9cbd-48d5-93f2-518b661a8c1b",
   "metadata": {},
   "outputs": [],
   "source": [
    "df.columns"
   ]
  },
  {
   "cell_type": "markdown",
   "id": "835e7e43-8a1b-432c-8e8b-6cf1a5963dc9",
   "metadata": {},
   "source": [
    "### Rename the Columns\n",
    "\n",
    "Changing the names of the columns for better understanding."
   ]
  },
  {
   "cell_type": "code",
   "execution_count": null,
   "id": "dcae0bb4-24ee-4e3c-85a7-b4c46ad8c08a",
   "metadata": {},
   "outputs": [],
   "source": [
    "# Define a dictionary with the mapping of old column names to new column names (for better naming convention).\n",
    "column_mapping = {\n",
    "    'User_ID'                    : 'user_id',\n",
    "    'Product_ID'                 : 'product_id',\n",
    "    'Gender'                     : 'gender',\n",
    "    'Age'                        : 'age',\n",
    "    'Occupation'                 : 'occupation'\n",
    "}\n",
    "\n",
    "# Rename the columns in the DataFrame\n",
    "df.rename(columns = column_mapping, inplace = True)\n",
    "\n",
    "# Display the updated DataFrame\n",
    "df.head(5)\n"
   ]
  },
  {
   "cell_type": "markdown",
   "id": "956a22dc-3422-4d53-97a2-439b9b6825b7",
   "metadata": {},
   "source": [
    "## Exploratory Data Analysis"
   ]
  }
 ],
 "metadata": {
  "kernelspec": {
   "display_name": "Python 3 (ipykernel)",
   "language": "python",
   "name": "python3"
  },
  "language_info": {
   "codemirror_mode": {
    "name": "ipython",
    "version": 3
   },
   "file_extension": ".py",
   "mimetype": "text/x-python",
   "name": "python",
   "nbconvert_exporter": "python",
   "pygments_lexer": "ipython3",
   "version": "3.10.9"
  }
 },
 "nbformat": 4,
 "nbformat_minor": 5
}
